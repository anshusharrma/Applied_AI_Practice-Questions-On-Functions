{
  "nbformat": 4,
  "nbformat_minor": 0,
  "metadata": {
    "kernelspec": {
      "display_name": "Python 3",
      "language": "python",
      "name": "python3"
    },
    "language_info": {
      "codemirror_mode": {
        "name": "ipython",
        "version": 3
      },
      "file_extension": ".py",
      "mimetype": "text/x-python",
      "name": "python",
      "nbconvert_exporter": "python",
      "pygments_lexer": "ipython3",
      "version": "3.7.6"
    },
    "colab": {
      "name": "Assignment 1.ipynb",
      "provenance": [],
      "collapsed_sections": []
    }
  },
  "cells": [
    {
      "cell_type": "markdown",
      "metadata": {
        "id": "C7c2csu0dHP5"
      },
      "source": [
        "1. Write a function that inputs a number and prints the multiplication table of that number"
      ]
    },
    {
      "cell_type": "code",
      "metadata": {
        "scrolled": true,
        "colab": {
          "base_uri": "https://localhost:8080/"
        },
        "id": "gDTZ3Q-bcLKE",
        "outputId": "f738a821-6b8e-4988-a60b-d73e72a74c85"
      },
      "source": [
        "def table(num):\n",
        "    for i in range(1,11):\n",
        "        b=num*i\n",
        "        print(num,\"*\",i,\"=\",b)\n",
        "c = int(input(\"Please enter a number \"))\n",
        "table(c)"
      ],
      "execution_count": 19,
      "outputs": [
        {
          "output_type": "stream",
          "text": [
            "Please enter a number 20\n",
            "20 * 1 = 20\n",
            "20 * 2 = 40\n",
            "20 * 3 = 60\n",
            "20 * 4 = 80\n",
            "20 * 5 = 100\n",
            "20 * 6 = 120\n",
            "20 * 7 = 140\n",
            "20 * 8 = 160\n",
            "20 * 9 = 180\n",
            "20 * 10 = 200\n"
          ],
          "name": "stdout"
        }
      ]
    },
    {
      "cell_type": "code",
      "metadata": {
        "colab": {
          "base_uri": "https://localhost:8080/"
        },
        "id": "YN2_bNdfcLKS",
        "outputId": "2f235f8d-bb57-4b04-f9bc-941383595f8f"
      },
      "source": [
        "def table(num):\n",
        "    lst = [*range(num,num*11,num)]\n",
        "    \n",
        "    print(lst)\n",
        "\n",
        "b = int(input(\"please enter a number : \"))\n",
        "table(b)"
      ],
      "execution_count": null,
      "outputs": [
        {
          "output_type": "stream",
          "text": [
            "please enter a number : 10\n",
            "[10, 20, 30, 40, 50, 60, 70, 80, 90, 100]\n"
          ],
          "name": "stdout"
        }
      ]
    },
    {
      "cell_type": "markdown",
      "metadata": {
        "id": "oXKscaSmdmJ0"
      },
      "source": [
        "2.Write a program to print twin primes less than 1000. If two consecutive odd numbers are\r\n",
        "both prime then they are known as twin primes"
      ]
    },
    {
      "cell_type": "code",
      "metadata": {
        "colab": {
          "base_uri": "https://localhost:8080/"
        },
        "id": "VEow98wZcLKU",
        "outputId": "475e05e3-75ac-4d42-a451-0644613f8f94"
      },
      "source": [
        "def prime(num):\n",
        "  #findind the prime numbers\n",
        "    lst =[]\n",
        "    for num in range (2,1001):\n",
        "        for i in range(2,num):\n",
        "            if (num%i) == 0:\n",
        "                break\n",
        "        else:\n",
        "            lst.append(num)\n",
        "    list1=[]\n",
        "    list1 += lst\n",
        "    list2 = []\n",
        "    #finding the twin prime\n",
        "    for i in range(0,len(list1) - 1):\n",
        "        if(list1[i+1]-list1[i])== 2:\n",
        "            list2.append((list1[i],list1[i+1]))\n",
        "   \n",
        "    return(list2)\n",
        "    \n",
        "prime(1000)"
      ],
      "execution_count": null,
      "outputs": [
        {
          "output_type": "execute_result",
          "data": {
            "text/plain": [
              "[(3, 5),\n",
              " (5, 7),\n",
              " (11, 13),\n",
              " (17, 19),\n",
              " (29, 31),\n",
              " (41, 43),\n",
              " (59, 61),\n",
              " (71, 73),\n",
              " (101, 103),\n",
              " (107, 109),\n",
              " (137, 139),\n",
              " (149, 151),\n",
              " (179, 181),\n",
              " (191, 193),\n",
              " (197, 199),\n",
              " (227, 229),\n",
              " (239, 241),\n",
              " (269, 271),\n",
              " (281, 283),\n",
              " (311, 313),\n",
              " (347, 349),\n",
              " (419, 421),\n",
              " (431, 433),\n",
              " (461, 463),\n",
              " (521, 523),\n",
              " (569, 571),\n",
              " (599, 601),\n",
              " (617, 619),\n",
              " (641, 643),\n",
              " (659, 661),\n",
              " (809, 811),\n",
              " (821, 823),\n",
              " (827, 829),\n",
              " (857, 859),\n",
              " (881, 883)]"
            ]
          },
          "metadata": {
            "tags": []
          },
          "execution_count": 7
        }
      ]
    },
    {
      "cell_type": "markdown",
      "metadata": {
        "id": "jXtUqj7SdvG1"
      },
      "source": [
        "3.Write a program to find out the prime factors of a number. Example: prime factors of 56 -\r\n",
        "2, 2, 2, 7"
      ]
    },
    {
      "cell_type": "code",
      "metadata": {
        "colab": {
          "base_uri": "https://localhost:8080/"
        },
        "id": "1_yEFl8gcLKW",
        "outputId": "d4d4a00e-8c7e-48aa-866c-5fd4dc9eef7b"
      },
      "source": [
        "def factor(num):\n",
        "    #import pdb;\n",
        "    lst = []\n",
        "    while num%2==0:\n",
        "        lst.append(2)\n",
        "        #pdb.set_trace()\n",
        "        num = num/2\n",
        "    for i in range(3,10,2):\n",
        "        while num%i==0:\n",
        "            lst.append(i)\n",
        "            num=num/i\n",
        "            #pdb.set_trace()\n",
        "    print(lst)\n",
        "factor(56)"
      ],
      "execution_count": null,
      "outputs": [
        {
          "output_type": "stream",
          "text": [
            "[2, 2, 2, 7]\n"
          ],
          "name": "stdout"
        }
      ]
    },
    {
      "cell_type": "markdown",
      "metadata": {
        "id": "FQAuZN-pVlZE"
      },
      "source": [
        "4.Write a program to implement these formulae of permutations and combinations\r\n",
        "Number of permutations of n objects taken r at a time: p(n, r) = n! / (n-r)!. Number of\r\n",
        "combinations of n objects taken r at a time is: c(n, r) = n! / (r!*(n-r)!) = p(n,r) / r!"
      ]
    },
    {
      "cell_type": "code",
      "metadata": {
        "colab": {
          "base_uri": "https://localhost:8080/"
        },
        "id": "KRdQXPs6OMM6",
        "outputId": "2c266e19-eff7-4d8d-8cdc-477c01c69e14"
      },
      "source": [
        "def factorial(num):\r\n",
        "  return 1 if (num==1)else (num*factorial(num-1))\r\n",
        "\r\n",
        "def permutation(n,r):\r\n",
        "  c = factorial(n)/factorial((n-r))\r\n",
        "  return c\r\n",
        "\r\n",
        "\r\n",
        "def combination(n,r):\r\n",
        "  d=permutation(n,r)/factorial(r)\r\n",
        "  return d\r\n",
        "\r\n",
        "n=int(input(\"Enter total number of objects: \"))\r\n",
        "r=int(input(\"Enter number of objects that has to be selected: \"))\r\n",
        "\r\n",
        "print(\"Number of permutations of {0} objects taken {1} at a time: {2} \".format(n,r,permutation(n,r)))\r\n",
        "print(\"Number of combinations of {0} objects taken {1} at a time is: {2} \".format(n,r,combination(n,r)))\r\n"
      ],
      "execution_count": null,
      "outputs": [
        {
          "output_type": "stream",
          "text": [
            "Enter total number of objects: 10\n",
            "Enter number of objects that has to be selected: 2\n",
            "Number of permutations of 10 objects taken 2 at a time: 90.0 \n",
            "Number of combinations of 10 objects taken 2 at a time is: 45.0 \n"
          ],
          "name": "stdout"
        }
      ]
    },
    {
      "cell_type": "markdown",
      "metadata": {
        "id": "LRll9z_JVpif"
      },
      "source": [
        "5.Write a function that converts a decimal number to binary number"
      ]
    },
    {
      "cell_type": "code",
      "metadata": {
        "colab": {
          "base_uri": "https://localhost:8080/"
        },
        "id": "CR9irOIQOK5f",
        "outputId": "63aa150b-a9ac-4842-c27b-50f5037bc7c1"
      },
      "source": [
        "def decimal_to_binary(n):\r\n",
        "  a=[]\r\n",
        "  while(n>1):\r\n",
        "    a.append(n%2)\r\n",
        "    n=n//2\r\n",
        "  a.append(1)\r\n",
        "  return a[::-1]\r\n",
        "decimal_to_binary(17)"
      ],
      "execution_count": null,
      "outputs": [
        {
          "output_type": "execute_result",
          "data": {
            "text/plain": [
              "[1, 0, 0, 0, 1]"
            ]
          },
          "metadata": {
            "tags": []
          },
          "execution_count": 66
        }
      ]
    },
    {
      "cell_type": "markdown",
      "metadata": {
        "id": "5hyAqzGUVttJ"
      },
      "source": [
        " \r\n",
        "6.Write a function cubesum() that accepts an integer and returns the sum of the cubes of\r\n",
        "individual digits of that number. Use this function to make functions PrintArmstrong() and\r\n",
        "isArmstrong() to print Armstrong numbers and to find whether is an Armstrong number."
      ]
    },
    {
      "cell_type": "code",
      "metadata": {
        "id": "94bsh3SqOI5q",
        "colab": {
          "base_uri": "https://localhost:8080/"
        },
        "outputId": "28bd789c-831e-45d2-d737-80d7324d4616"
      },
      "source": [
        "def cubesum(n):\r\n",
        "  sum=0\r\n",
        "  while n>0:\r\n",
        "    sum+=(n%10)**3\r\n",
        "    n=n//10\r\n",
        "  return sum\r\n",
        "\r\n",
        "def PrintArmstrong(n):\r\n",
        "  for i in range(1,n):\r\n",
        "    if (cubesum(i)==i):\r\n",
        "      print(i)\r\n",
        "\r\n",
        "def IsArmstrong(n):\r\n",
        "  if n==cubesum(n):\r\n",
        "    print(\"{} is an Armstrong numbers\".format(n))\r\n",
        "  else:\r\n",
        "    print(\"{} is not an Armstrong numbers\".format(n))\r\n",
        "\r\n",
        "#z=int(input(\"Please enter a number : \"))\r\n",
        "\r\n",
        "PrintArmstrong(1000)\r\n",
        "IsArmstrong(407)\r\n",
        "IsArmstrong(385)"
      ],
      "execution_count": 17,
      "outputs": [
        {
          "output_type": "stream",
          "text": [
            "1\n",
            "153\n",
            "370\n",
            "371\n",
            "407\n",
            "407 is an Armstrong numbers\n",
            "385 is not an Armstrong numbers\n"
          ],
          "name": "stdout"
        }
      ]
    },
    {
      "cell_type": "markdown",
      "metadata": {
        "id": "u4J8_OlXd2rq"
      },
      "source": [
        "7.Write a function prodDigits() that inputs a number and returns the product\r\n",
        "of digits of that number."
      ]
    },
    {
      "cell_type": "code",
      "metadata": {
        "colab": {
          "base_uri": "https://localhost:8080/"
        },
        "id": "FJr5Izm1Jg24",
        "outputId": "64125faf-86f3-4344-aae8-ba41ba5392e9"
      },
      "source": [
        "def proddigit(n):\r\n",
        "  prod=1\r\n",
        "  while(n!=0):\r\n",
        "    prod=prod*(n%10)\r\n",
        "    n=n//10\r\n",
        "  return prod\r\n",
        "proddigit(96)"
      ],
      "execution_count": null,
      "outputs": [
        {
          "output_type": "execute_result",
          "data": {
            "text/plain": [
              "54"
            ]
          },
          "metadata": {
            "tags": []
          },
          "execution_count": 43
        }
      ]
    },
    {
      "cell_type": "markdown",
      "metadata": {
        "id": "RpPQw27CVxig"
      },
      "source": [
        "8.If all digits of a number n are multiplied by each other repeating with the \r\n",
        "product, the one digit number obtained at last is called the multiplicative digital root of n. The number of\r\n",
        "times digits need to be multiplied to reach one digit is called the multiplicative\r\n",
        "persistance of n.\r\n",
        "Example: 86 -> 48 -> 32 -> 6 (MDR 6, MPersistence 3)\r\n",
        "341 -> 12->2 (MDR 2, MPersistence 2)\r\n",
        "Using the function prodDigits() of previous exercise write functions MDR() and\r\n",
        "MPersistence() that input a number and return its multiplicative digital root and\r\n",
        "multiplicative persistence respectively"
      ]
    },
    {
      "cell_type": "code",
      "metadata": {
        "colab": {
          "base_uri": "https://localhost:8080/"
        },
        "id": "tfpe6bavJfRP",
        "outputId": "fec4a38c-d799-4683-d106-347b72309567"
      },
      "source": [
        "def mdr(n):\r\n",
        "  i=0\r\n",
        "  while(n>9):\r\n",
        "    n = proddigit(n)\r\n",
        "    i=i+1\r\n",
        "  print(\"MDR---\",n)\r\n",
        "  print(\"MPersistence--\",i)\r\n",
        "  \r\n",
        "mdr(341)"
      ],
      "execution_count": null,
      "outputs": [
        {
          "output_type": "stream",
          "text": [
            "MDR--- 2\n",
            "MPersistence-- 2\n"
          ],
          "name": "stdout"
        }
      ]
    },
    {
      "cell_type": "markdown",
      "metadata": {
        "id": "UqML0jwBV2fp"
      },
      "source": [
        "9.Write a function sumPdivisors() that finds the sum of proper divisors of a \r\n",
        "number. Proper divisors of a number are those numbers by which the number is divisible, except the number itself. For example proper divisors of 36 are 1, 2, 3, 4, 6, 9, 18"
      ]
    },
    {
      "cell_type": "code",
      "metadata": {
        "colab": {
          "base_uri": "https://localhost:8080/"
        },
        "id": "gy-Qa2EfIqId",
        "outputId": "8a80a4db-c004-4595-ebf1-bbf411f90e12"
      },
      "source": [
        "def divisor(n):\r\n",
        "  m=[]\r\n",
        "  for i in range(1,n):\r\n",
        "    if (n%i==0):\r\n",
        "      m.append(i)\r\n",
        "  return m\r\n",
        "divisor(36)"
      ],
      "execution_count": null,
      "outputs": [
        {
          "output_type": "execute_result",
          "data": {
            "text/plain": [
              "[1, 2, 3, 4, 6, 9, 12, 18]"
            ]
          },
          "metadata": {
            "tags": []
          },
          "execution_count": 41
        }
      ]
    },
    {
      "cell_type": "markdown",
      "metadata": {
        "id": "qjbdZ4btV6iC"
      },
      "source": [
        "10.A number is called perfect if the sum of proper divisors of that number is equal to the\r\n",
        "number. For example 28 is perfect number, since 1+2+4+7+14=28. Write a program to\r\n",
        "print all the perfect numbers in a given range"
      ]
    },
    {
      "cell_type": "code",
      "metadata": {
        "colab": {
          "base_uri": "https://localhost:8080/"
        },
        "id": "CXOv-kblDZ0j",
        "outputId": "40b7dd12-3d47-4f4a-fb5a-912cbf7fefd7"
      },
      "source": [
        "def divisor(n):\r\n",
        "  m=[]\r\n",
        "  for i in range(1,n):\r\n",
        "    if (n%i==0):\r\n",
        "      m.append(i)\r\n",
        "  return sum(m)\r\n",
        "\r\n",
        "def perfect_number(n):\r\n",
        "  for i in range(1,n+1):\r\n",
        "    if (divisor(i)==i):\r\n",
        "      print(i)\r\n",
        "\r\n",
        "perfect_number(100)"
      ],
      "execution_count": null,
      "outputs": [
        {
          "output_type": "stream",
          "text": [
            "6\n",
            "28\n"
          ],
          "name": "stdout"
        }
      ]
    },
    {
      "cell_type": "markdown",
      "metadata": {
        "id": "YOeSU1e8V-0B"
      },
      "source": [
        "11.Two different numbers are called amicable numbers if the sum of the proper divisors of\r\n",
        "each is equal to the other number. For example 220 and 284 are amicable numbers.\r\n",
        "Sum of proper divisors of 220 = 1+2+4+5+10+11+20+22+44+55+110 = 284\r\n",
        "Sum of proper divisors of 284 = 1+2+4+71+142 = 220\r\n",
        "Write a function to print pairs of amicable numbers in a range"
      ]
    },
    {
      "cell_type": "code",
      "metadata": {
        "colab": {
          "base_uri": "https://localhost:8080/"
        },
        "id": "6z7ejTUA_tPF",
        "outputId": "f4830ad5-426d-4bec-959d-1192ffbfa7a0"
      },
      "source": [
        "def amicable(x,y):\r\n",
        "  if (sum(divisor(x))==y and sum(divisor(y))==x):\r\n",
        "    print(x,\"&\",y,\"are amicable numbers\")\r\n",
        "  else:\r\n",
        "    print(x ,\"&\", y ,\"are not amicable numbers\")\r\n",
        "\r\n",
        "amicable(28,220)\r\n",
        "amicable(220,284)"
      ],
      "execution_count": null,
      "outputs": [
        {
          "output_type": "stream",
          "text": [
            "28 & 220 are not amicable numbers\n",
            "220 & 284 are amicable numbers\n"
          ],
          "name": "stdout"
        }
      ]
    },
    {
      "cell_type": "markdown",
      "metadata": {
        "id": "K346RBh0U4qv"
      },
      "source": [
        "12.Write a program which can filter odd numbers in a list by using filter function"
      ]
    },
    {
      "cell_type": "code",
      "metadata": {
        "colab": {
          "base_uri": "https://localhost:8080/"
        },
        "id": "fbcS2xGVTcIL",
        "outputId": "87919315-4462-405e-aee7-523517e7451e"
      },
      "source": [
        "def odd_number(num):\r\n",
        "  if num%2!=0:\r\n",
        "    return num\r\n",
        "num=int(input(\"Please enter a number: \"))\r\n",
        "number_list=range(num)\r\n",
        "print(\"The list of original numbers\")\r\n",
        "print(list(number_list))\r\n",
        "\r\n",
        "odd_numbers=list(filter(odd_number,number_list))\r\n",
        "print(\"The Odd numbers list is\")\r\n",
        "print(odd_numbers)"
      ],
      "execution_count": null,
      "outputs": [
        {
          "output_type": "stream",
          "text": [
            "Please enter a number: 20\n",
            "The list of original numbers\n",
            "[0, 1, 2, 3, 4, 5, 6, 7, 8, 9, 10, 11, 12, 13, 14, 15, 16, 17, 18, 19]\n",
            "The Odd numbers list is\n",
            "[1, 3, 5, 7, 9, 11, 13, 15, 17, 19]\n"
          ],
          "name": "stdout"
        }
      ]
    },
    {
      "cell_type": "markdown",
      "metadata": {
        "id": "F_7R2PHYVQl2"
      },
      "source": [
        "13.Write a program which can map() to make a list whose elements are cube of elements in\r\n",
        "a given list"
      ]
    },
    {
      "cell_type": "code",
      "metadata": {
        "colab": {
          "base_uri": "https://localhost:8080/"
        },
        "id": "4SjD1UGVWKed",
        "outputId": "f14be231-5a06-4c9f-fd48-15fb8b36da14"
      },
      "source": [
        "def cube(num):\r\n",
        "    return num**3\r\n",
        "num=int(input(\"Please enter a number: \"))\r\n",
        "numbers=range(num)\r\n",
        "print(\"The list of original numbers\")\r\n",
        "print(list(numbers))\r\n",
        "cube_numbers=list(map(cube,numbers))\r\n",
        "print(\"The list of cube numbers is\")\r\n",
        "print(cube_numbers)"
      ],
      "execution_count": null,
      "outputs": [
        {
          "output_type": "stream",
          "text": [
            "Please enter a number: 20\n",
            "The list of original numbers\n",
            "[0, 1, 2, 3, 4, 5, 6, 7, 8, 9, 10, 11, 12, 13, 14, 15, 16, 17, 18, 19]\n",
            "The list of cube numbers is\n",
            "[0, 1, 8, 27, 64, 125, 216, 343, 512, 729, 1000, 1331, 1728, 2197, 2744, 3375, 4096, 4913, 5832, 6859]\n"
          ],
          "name": "stdout"
        }
      ]
    },
    {
      "cell_type": "markdown",
      "metadata": {
        "id": "2EeaMxLxVY7g"
      },
      "source": [
        "14.Write a program which can map() and filter() to make a list whose elements are cube of\r\n",
        "even number in a given list"
      ]
    },
    {
      "cell_type": "code",
      "metadata": {
        "colab": {
          "base_uri": "https://localhost:8080/"
        },
        "id": "8InwzWBJXYai",
        "outputId": "9aa6d7d1-d964-4d48-8a9a-56a1de242252"
      },
      "source": [
        "def even_number(num):\r\n",
        "  if num%2==0:\r\n",
        "    return num\r\n",
        "num =int(input(\"Please enter a number: \"))\r\n",
        "numbers= range(num)\r\n",
        "print(\"The list of original numbers\")\r\n",
        "print(list(numbers))\r\n",
        "\r\n",
        "#cube_numbers=list(map(cube,numbers))\r\n",
        "#print(\"The list of cube numbers is\")\r\n",
        "#print(cube_numbers\r\n",
        "even_numbers=[]\r\n",
        "b=map(cube,filter(even_number,numbers))\r\n",
        "for i in b:\r\n",
        "  even_numbers.append(i)\r\n",
        "print(\"The list of cube of even numbers is: \")\r\n",
        "print(even_numbers)"
      ],
      "execution_count": null,
      "outputs": [
        {
          "output_type": "stream",
          "text": [
            "Please enter a number: 15\n",
            "The list of original numbers\n",
            "[0, 1, 2, 3, 4, 5, 6, 7, 8, 9, 10, 11, 12, 13, 14]\n",
            "The list of cube of even numbers is: \n",
            "[8, 64, 216, 512, 1000, 1728, 2744]\n"
          ],
          "name": "stdout"
        }
      ]
    }
  ]
}